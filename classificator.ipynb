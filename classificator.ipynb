{
 "cells": [
  {
   "cell_type": "markdown",
   "metadata": {},
   "source": [
    "# Clasificador de huellas dactilares mediante k-means (ML version)"
   ]
  },
  {
   "cell_type": "markdown",
   "metadata": {},
   "source": [
    "## Dataset exploration"
   ]
  },
  {
   "cell_type": "code",
   "execution_count": 2,
   "metadata": {
    "collapsed": false,
    "deletable": true,
    "editable": true
   },
   "outputs": [
    {
     "name": "stdout",
     "output_type": "stream",
     "text": [
      "Your function returned a count of 4000  images\n",
      "of size:  (512, 512)  and data type: float32\n"
     ]
    }
   ],
   "source": [
    "import glob\n",
    "import numpy\n",
    "import matplotlib.image as mpimg\n",
    "import matplotlib.pyplot as plt\n",
    "%matplotlib inline\n",
    "\n",
    "#Read all the png images from the dataset folder\n",
    "images = glob.glob('dataset/*.png')\n",
    "\n",
    "#Function to return some characteristics of the dataset\n",
    "def data_look(images):\n",
    "    data_dict = {}\n",
    "    \n",
    "    data_dict['n_images'] = len(images)\n",
    "    img = mpimg.imread(images[1])\n",
    "    data_dict['image_shape'] = img.shape\n",
    "    data_dict['image_type'] = img.dtype\n",
    "    \n",
    "    return data_dict\n",
    "\n",
    "data_info = data_look(images)\n",
    "\n",
    "print('Your function returned a count of', \n",
    "      data_info[\"n_images\"], ' images')\n",
    "print('of size: ',data_info[\"image_shape\"], ' and data type:', \n",
    "      data_info[\"image_type\"])\n",
    "    "
   ]
  },
  {
   "cell_type": "code",
   "execution_count": null,
   "metadata": {
    "collapsed": true
   },
   "outputs": [],
   "source": []
  }
 ],
 "metadata": {
  "kernelspec": {
   "display_name": "Python 3",
   "language": "python",
   "name": "python3"
  },
  "language_info": {
   "codemirror_mode": {
    "name": "ipython",
    "version": 3
   },
   "file_extension": ".py",
   "mimetype": "text/x-python",
   "name": "python",
   "nbconvert_exporter": "python",
   "pygments_lexer": "ipython3",
   "version": "3.5.2"
  },
  "widgets": {
   "state": {},
   "version": "1.1.2"
  }
 },
 "nbformat": 4,
 "nbformat_minor": 2
}
